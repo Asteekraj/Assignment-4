{
 "cells": [
  {
   "cell_type": "markdown",
   "id": "c19e9b42-19c5-4f78-a6cd-aae94c0a90d6",
   "metadata": {},
   "source": [
    "Q1. Explain Class and Object with respect to Object-Oriented Programming. Give a suitable example."
   ]
  },
  {
   "cell_type": "markdown",
   "id": "16360ff8-3223-4d77-a34b-8c3c35e90a05",
   "metadata": {},
   "source": [
    "Ans:- Class: Class is a blueprint of object means an object can be created with the help of class. Class is a collection of similar type of objects as it is a logical entity and it is defined once."
   ]
  },
  {
   "cell_type": "code",
   "execution_count": 2,
   "id": "f9e988de-5223-4ec9-9896-7502985358ac",
   "metadata": {},
   "outputs": [],
   "source": [
    "class students():\n",
    "    pass"
   ]
  },
  {
   "cell_type": "markdown",
   "id": "3f46b56e-2587-475d-ace7-68a70c1da0b3",
   "metadata": {},
   "source": [
    "Object: Object is a instance of class. It is a real world entity as it is physical entity and can be created as many times as we required."
   ]
  },
  {
   "cell_type": "code",
   "execution_count": 16,
   "id": "005e80ac-95ff-41c4-96c7-79fd7a93cf3c",
   "metadata": {},
   "outputs": [
    {
     "name": "stdout",
     "output_type": "stream",
     "text": [
      "Asteek Raj\n",
      "Radha Shyam\n"
     ]
    }
   ],
   "source": [
    "class students():\n",
    "    def __init__(self,f_name,l_name):\n",
    "        self.f_name = f_name\n",
    "        self.l_name = l_name\n",
    "        \n",
    "    def printname(self):\n",
    "        print(self.f_name,self.l_name)\n",
    "        \n",
    "ast = students(\"Asteek\",\"Raj\")  #object 1\n",
    "jdd = students(\"Radha\",\"Shyam\")  #object 2\n",
    "ast.printname()\n",
    "jdd.printname()\n",
    "    "
   ]
  },
  {
   "cell_type": "code",
   "execution_count": null,
   "id": "d2b13715-f5dc-4bd4-80ae-66387f5eec7e",
   "metadata": {},
   "outputs": [],
   "source": []
  },
  {
   "cell_type": "markdown",
   "id": "062abb74-1a9c-49a4-935a-3201e9f7d89f",
   "metadata": {},
   "source": [
    "Q2. Name the four pillars of OOPs."
   ]
  },
  {
   "cell_type": "raw",
   "id": "9eb9f2da-cc47-433d-886f-9224a77d9d3a",
   "metadata": {},
   "source": [
    "The Four Pillars of Object Oriented Programming\n",
    "Abstraction.\n",
    "Encapsulation.\n",
    "Inheritance.\n",
    "Polymorphism."
   ]
  },
  {
   "cell_type": "code",
   "execution_count": null,
   "id": "a3897a17-baca-4e9a-b174-91a09d8a79a8",
   "metadata": {},
   "outputs": [],
   "source": []
  },
  {
   "cell_type": "markdown",
   "id": "a6cc31e5-e2bb-428c-866b-a1a42a5d8b6e",
   "metadata": {},
   "source": [
    "Q3. Explain why the __init__() function is used. Give a suitable example."
   ]
  },
  {
   "cell_type": "markdown",
   "id": "201adca0-a8ba-4c9f-bd10-4cdc68b7644e",
   "metadata": {},
   "source": [
    "Ans : There is a method called __init__() . This method is called automatically whenever a new object of a class is created. This type of function is also known as the constructor function. A constructor function is a function that is called every time a new class object is created."
   ]
  },
  {
   "cell_type": "code",
   "execution_count": 17,
   "id": "e8f796de-1388-4414-8bc5-b508a8a7cd72",
   "metadata": {},
   "outputs": [
    {
     "name": "stdout",
     "output_type": "stream",
     "text": [
      "Asteek Raj\n",
      "Radha Shyam\n"
     ]
    }
   ],
   "source": [
    "class students():\n",
    "    def __init__(self,f_name,l_name):\n",
    "        self.f_name = f_name\n",
    "        self.l_name = l_name\n",
    "        \n",
    "    def printname(self):\n",
    "        print(self.f_name,self.l_name)\n",
    "        \n",
    "    ast = students(\"Asteek\",\"Raj\")  #object 1 here init function called\n",
    "jdd = students(\"Radha\",\"Shyam\")  #object 2 here also init function called\n",
    "ast.printname()\n",
    "jdd.printname()"
   ]
  },
  {
   "cell_type": "code",
   "execution_count": null,
   "id": "35e3fd4f-d3a0-441d-8b1e-e56a7b689d19",
   "metadata": {},
   "outputs": [],
   "source": []
  },
  {
   "cell_type": "markdown",
   "id": "eb9fc0a9-6aa7-4800-a6e8-95b7b2d6c094",
   "metadata": {},
   "source": [
    "Q4. Why self is used in OOPs?"
   ]
  },
  {
   "cell_type": "markdown",
   "id": "5f9e3484-88ed-4340-ba52-ab976f5ef8e8",
   "metadata": {},
   "source": [
    "Ans: The self is used to represent the instance of the class. With this keyword, we can access the attributes and methods of the class in python. It binds the attributes with the given arguments."
   ]
  },
  {
   "cell_type": "code",
   "execution_count": null,
   "id": "8492266b-b4a7-4ea3-9ff9-d7510ab461f6",
   "metadata": {},
   "outputs": [],
   "source": []
  },
  {
   "cell_type": "markdown",
   "id": "9e4df272-bed7-4466-b049-e93d0167b51b",
   "metadata": {},
   "source": [
    "Q5. What is inheritance? Give an example for each type of inheritance."
   ]
  },
  {
   "cell_type": "markdown",
   "id": "13a11936-d387-4467-aefc-0550c93ad9db",
   "metadata": {},
   "source": [
    "INHERITANCE: Inheritance is defined as the mechanism of inheriting the properties of the base class to the child class."
   ]
  },
  {
   "cell_type": "markdown",
   "id": "6ad7cb00-3270-4dcf-ab1a-e3ee735a17d9",
   "metadata": {},
   "source": [
    "SINGLE INHERITANCE: Single inheritance enables a derived class to inherit properties from a single parent class."
   ]
  },
  {
   "cell_type": "code",
   "execution_count": 15,
   "id": "2fd63f3d-2870-45b8-84e8-7bca2701b40a",
   "metadata": {},
   "outputs": [
    {
     "name": "stdout",
     "output_type": "stream",
     "text": [
      "this is a parent class\n",
      "this is a child\n"
     ]
    }
   ],
   "source": [
    "class parent():\n",
    "    def fin(self):\n",
    "        print(\"this is a parent class\")\n",
    "class child(parent):\n",
    "    def sss(self):\n",
    "        print(\"this is a child\")\n",
    "obj1 = child()\n",
    "obj1.fin()\n",
    "obj1.sss()"
   ]
  },
  {
   "cell_type": "markdown",
   "id": "64acf1f5-1f3f-42d8-b0ff-a64bdfd3d08e",
   "metadata": {},
   "source": [
    "MULTIPLE INHERITANCE: When a class can be derived from more than one base class this type of inheritance is called multiple inheritances."
   ]
  },
  {
   "cell_type": "code",
   "execution_count": 19,
   "id": "49c16ddf-61d4-4ec6-be1c-0e143bfc8931",
   "metadata": {},
   "outputs": [
    {
     "name": "stdout",
     "output_type": "stream",
     "text": [
      "Radhe Radhe\n",
      "Radha ji\n",
      "dslafj\n"
     ]
    }
   ],
   "source": [
    "class father():\n",
    "    def func1(self):\n",
    "        print(\"Radhe Radhe\")\n",
    "class mother():\n",
    "    def func2(self):\n",
    "        print(\"Radha ji\")\n",
    "class child(father,mother):\n",
    "    def func3(self):\n",
    "        print(\"dslafj\")\n",
    "obj = child()\n",
    "obj.func1()\n",
    "obj.func2()\n",
    "obj.func3()\n",
    "              "
   ]
  },
  {
   "cell_type": "markdown",
   "id": "59508d07-e823-4eef-a8cf-ae4d0ebf552c",
   "metadata": {},
   "source": [
    "MULTILEVEL INHERITANCE: In multilevel inheritance, features of the base class and the derived class are further inherited into the new derived class."
   ]
  },
  {
   "cell_type": "code",
   "execution_count": 20,
   "id": "3cae776e-67a5-4468-a247-187eabdf9ede",
   "metadata": {},
   "outputs": [
    {
     "name": "stdout",
     "output_type": "stream",
     "text": [
      "Radhe Radhe\n",
      "Radha ji\n",
      "dslafj\n"
     ]
    }
   ],
   "source": [
    "class father():\n",
    "    def func1(self):\n",
    "        print(\"Radhe Radhe\")\n",
    "class mother(father):\n",
    "    def func2(self):\n",
    "        print(\"Radha ji\")\n",
    "class child(mother):\n",
    "    def func3(self):\n",
    "        print(\"dslafj\")\n",
    "obj = child()\n",
    "obj.func1()\n",
    "obj.func2()\n",
    "obj.func3()"
   ]
  },
  {
   "cell_type": "markdown",
   "id": "400342f4-9887-4722-b699-c1b62653d087",
   "metadata": {},
   "source": [
    "HIERARCHIAL INHERITANCE: When more than one derived class are created from a single base this type of inheritance is called hierarchical inheritance"
   ]
  },
  {
   "cell_type": "code",
   "execution_count": 21,
   "id": "e3fb62d0-675c-494e-9bd6-1b82af951768",
   "metadata": {},
   "outputs": [
    {
     "name": "stdout",
     "output_type": "stream",
     "text": [
      "Radhe Radhe\n",
      "Radhe Radhe\n"
     ]
    }
   ],
   "source": [
    "class father():\n",
    "    def func1(self):\n",
    "        print(\"Radhe Radhe\")\n",
    "class child1(father):\n",
    "    def func2(self):\n",
    "        print(\"Radha ji\")\n",
    "class child2(father):\n",
    "    def func3(self):\n",
    "        print(\"dslafj\")\n",
    "obj = child1()\n",
    "obj1 = child2()\n",
    "obj.func1()\n",
    "obj1.func1()\n"
   ]
  },
  {
   "cell_type": "markdown",
   "id": "9ee2764e-a6cc-4807-9b2e-80b65ee32d39",
   "metadata": {},
   "source": [
    "HYBRID INHERITANCE: Inheritance consisting of multiple types of inheritance is called hybrid inheritance."
   ]
  },
  {
   "cell_type": "code",
   "execution_count": 23,
   "id": "7a689094-d55c-44ea-934b-72166ab39d0f",
   "metadata": {},
   "outputs": [
    {
     "name": "stdout",
     "output_type": "stream",
     "text": [
      "this is grand\n",
      "this is child 2\n",
      "this is father\n",
      "this is mother\n"
     ]
    }
   ],
   "source": [
    "class grand():\n",
    "    def func1(self):\n",
    "        print(\"this is grand\")\n",
    "class father():\n",
    "    def func2(self):\n",
    "        print(\"this is father\")\n",
    "class mother():\n",
    "    def func3(self):\n",
    "        print(\"this is mother\")\n",
    "class child1(father,mother):\n",
    "    def func4(self):\n",
    "        print(\"this is child 1\")\n",
    "class child2(grand):\n",
    "    def func5(self):\n",
    "        print(\"this is child 2\")\n",
    "class child3(child2):\n",
    "    def func6(self):\n",
    "        print(\"this is child 3\")\n",
    "obj1= child3()\n",
    "obj1.func1()\n",
    "obj1.func5()\n",
    "obj2= child1()\n",
    "obj2.func2()\n",
    "obj2.func3()\n",
    "\n",
    "    "
   ]
  },
  {
   "cell_type": "code",
   "execution_count": null,
   "id": "75ed488b-3185-4106-907a-c57a7a33750d",
   "metadata": {},
   "outputs": [],
   "source": []
  }
 ],
 "metadata": {
  "kernelspec": {
   "display_name": "Python 3 (ipykernel)",
   "language": "python",
   "name": "python3"
  },
  "language_info": {
   "codemirror_mode": {
    "name": "ipython",
    "version": 3
   },
   "file_extension": ".py",
   "mimetype": "text/x-python",
   "name": "python",
   "nbconvert_exporter": "python",
   "pygments_lexer": "ipython3",
   "version": "3.10.8"
  }
 },
 "nbformat": 4,
 "nbformat_minor": 5
}
